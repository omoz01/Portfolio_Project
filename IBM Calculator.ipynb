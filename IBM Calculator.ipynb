{
 "cells": [
  {
   "cell_type": "markdown",
   "id": "e5f26104",
   "metadata": {},
   "source": [
    "# BMI Calculator"
   ]
  },
  {
   "cell_type": "code",
   "execution_count": 28,
   "id": "9fbbbc0c",
   "metadata": {},
   "outputs": [
    {
     "name": "stdout",
     "output_type": "stream",
     "text": [
      "enter your name Odegard\n",
      "enter your weight in pounds 185\n",
      "enter your height in inches 59\n",
      "Your BMI is ... 37.36139040505602\n",
      "Odegard, you are severely obese.\n"
     ]
    }
   ],
   "source": [
    "name = input(\"enter your name \")\n",
    "\n",
    "weight = int(input(\"enter your weight in pounds \"))\n",
    "\n",
    "height = int(input(\"enter your height in inches \"))\n",
    "\n",
    "BMI = (weight * 703) / (height * height)\n",
    "\n",
    "print(\"Your BMI is ...\", BMI)\n",
    "\n",
    "\n",
    "if BMI>0:\n",
    "    if (BMI<18.5):\n",
    "        print(name + \", you are underweight.\")\n",
    "    elif (BMI<24.9):\n",
    "        print(name + \", you are Normalweight.\")\n",
    "    elif (BMI<29.9):\n",
    "        print(name + \", you are overweight.\")\n",
    "    elif (BMI<34.9):\n",
    "        print(name + \", you are obese.\")\n",
    "    elif (BMI<39.9):\n",
    "        print(name + \", you are severely obese.\")\n",
    "    else:\n",
    "        print(name + \", you are Morbidly obese.\")"
   ]
  },
  {
   "cell_type": "code",
   "execution_count": null,
   "id": "11fd5589",
   "metadata": {},
   "outputs": [],
   "source": []
  },
  {
   "cell_type": "code",
   "execution_count": null,
   "id": "4ed35956",
   "metadata": {},
   "outputs": [],
   "source": [
    "\n"
   ]
  },
  {
   "cell_type": "code",
   "execution_count": null,
   "id": "d52305c1",
   "metadata": {},
   "outputs": [],
   "source": []
  },
  {
   "cell_type": "code",
   "execution_count": null,
   "id": "ff956ee0",
   "metadata": {},
   "outputs": [],
   "source": []
  },
  {
   "cell_type": "code",
   "execution_count": null,
   "id": "337b57a0",
   "metadata": {},
   "outputs": [],
   "source": []
  }
 ],
 "metadata": {
  "kernelspec": {
   "display_name": "Python 3 (ipykernel)",
   "language": "python",
   "name": "python3"
  },
  "language_info": {
   "codemirror_mode": {
    "name": "ipython",
    "version": 3
   },
   "file_extension": ".py",
   "mimetype": "text/x-python",
   "name": "python",
   "nbconvert_exporter": "python",
   "pygments_lexer": "ipython3",
   "version": "3.11.5"
  }
 },
 "nbformat": 4,
 "nbformat_minor": 5
}
