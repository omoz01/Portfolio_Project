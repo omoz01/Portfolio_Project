{
 "cells": [
  {
   "cell_type": "markdown",
   "id": "df48e744",
   "metadata": {},
   "source": [
    "# File Sorter"
   ]
  },
  {
   "cell_type": "code",
   "execution_count": 14,
   "id": "9c2d4cd6",
   "metadata": {},
   "outputs": [],
   "source": [
    "import os, shutil"
   ]
  },
  {
   "cell_type": "code",
   "execution_count": 15,
   "id": "9a3e40f7",
   "metadata": {},
   "outputs": [],
   "source": [
    "path = r\"C:/Users/SHEGZY/Desktop/Data Tutorials/Data/\""
   ]
  },
  {
   "cell_type": "code",
   "execution_count": 16,
   "id": "7547c542",
   "metadata": {},
   "outputs": [],
   "source": [
    "file_name = os.listdir(path)"
   ]
  },
  {
   "cell_type": "code",
   "execution_count": 17,
   "id": "ce15d116",
   "metadata": {},
   "outputs": [],
   "source": [
    "folder_names = ['excel files', 'zip files', 'PowerBi files', 'csv files']\n",
    "\n",
    "for loop in range(0,4):\n",
    "    if not os.path.exists(path + folder_names[loop]):\n",
    "        #print(path + folder_names[loop])\n",
    "        os.makedirs(path + folder_names[loop])\n",
    "        \n",
    "    else:\n",
    "        print(\"folder already in the directory\")\n",
    "        \n",
    "for file in file_name:\n",
    "    if \".xlsx\" in file and not os.path.exists(path + \"excel files/\" + file):\n",
    "        shutil.move(path + file, path + \"excel files/\" + file)\n",
    "        \n",
    "    elif \".zip\" in file and not os.path.exists(path + \"zip files/\" + file):\n",
    "        shutil.move(path + file, path + \"zip files/\" + file)\n",
    "        \n",
    "    elif \".pbix\" in file and not os.path.exists(path + \"PowerBi files/\" + file):\n",
    "        shutil.move(path + file, path + \"PowerBi files/\" + file)\n",
    "    \n",
    "    elif \".csv\" in file and not os.path.exists(path + \"csv files/\" + file):\n",
    "        shutil.move(path + file, path + \"csv files/\" + file)"
   ]
  },
  {
   "cell_type": "code",
   "execution_count": null,
   "id": "c227c3dd",
   "metadata": {},
   "outputs": [],
   "source": []
  },
  {
   "cell_type": "code",
   "execution_count": null,
   "id": "6fbbeb6f",
   "metadata": {},
   "outputs": [],
   "source": []
  }
 ],
 "metadata": {
  "kernelspec": {
   "display_name": "Python 3 (ipykernel)",
   "language": "python",
   "name": "python3"
  },
  "language_info": {
   "codemirror_mode": {
    "name": "ipython",
    "version": 3
   },
   "file_extension": ".py",
   "mimetype": "text/x-python",
   "name": "python",
   "nbconvert_exporter": "python",
   "pygments_lexer": "ipython3",
   "version": "3.11.5"
  }
 },
 "nbformat": 4,
 "nbformat_minor": 5
}
